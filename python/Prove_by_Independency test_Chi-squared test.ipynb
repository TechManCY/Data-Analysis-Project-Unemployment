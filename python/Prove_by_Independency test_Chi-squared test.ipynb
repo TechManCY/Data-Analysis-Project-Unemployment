{
 "cells": [
  {
   "cell_type": "code",
   "execution_count": 1,
   "id": "2d5dcf1c",
   "metadata": {},
   "outputs": [],
   "source": [
    "import pandas as pd\n",
    "import numpy as np\n",
    "\n",
    "df = pd.read_csv('csv/K15T_K16_K17.csv')"
   ]
  },
  {
   "cell_type": "code",
   "execution_count": 2,
   "id": "bf3701a2",
   "metadata": {},
   "outputs": [
    {
     "data": {
      "text/html": [
       "<div>\n",
       "<style scoped>\n",
       "    .dataframe tbody tr th:only-of-type {\n",
       "        vertical-align: middle;\n",
       "    }\n",
       "\n",
       "    .dataframe tbody tr th {\n",
       "        vertical-align: top;\n",
       "    }\n",
       "\n",
       "    .dataframe thead th {\n",
       "        text-align: right;\n",
       "    }\n",
       "</style>\n",
       "<table border=\"1\" class=\"dataframe\">\n",
       "  <thead>\n",
       "    <tr style=\"text-align: right;\">\n",
       "      <th></th>\n",
       "      <th>Gender</th>\n",
       "      <th>Type</th>\n",
       "      <th>Count (Thousands)</th>\n",
       "      <th>Year</th>\n",
       "      <th>Age_Group</th>\n",
       "      <th>Occupation</th>\n",
       "      <th>Pmet_Status</th>\n",
       "    </tr>\n",
       "  </thead>\n",
       "  <tbody>\n",
       "    <tr>\n",
       "      <th>0</th>\n",
       "      <td>Male</td>\n",
       "      <td>Long-term</td>\n",
       "      <td>0.286364</td>\n",
       "      <td>2014</td>\n",
       "      <td>15 - 29</td>\n",
       "      <td>Associate Professionals &amp; Technicians</td>\n",
       "      <td>PMETs</td>\n",
       "    </tr>\n",
       "    <tr>\n",
       "      <th>1</th>\n",
       "      <td>Male</td>\n",
       "      <td>Short-term</td>\n",
       "      <td>1.317603</td>\n",
       "      <td>2014</td>\n",
       "      <td>15 - 29</td>\n",
       "      <td>Associate Professionals &amp; Technicians</td>\n",
       "      <td>PMETs</td>\n",
       "    </tr>\n",
       "    <tr>\n",
       "      <th>2</th>\n",
       "      <td>Female</td>\n",
       "      <td>Long-term</td>\n",
       "      <td>0.000000</td>\n",
       "      <td>2014</td>\n",
       "      <td>15 - 29</td>\n",
       "      <td>Associate Professionals &amp; Technicians</td>\n",
       "      <td>PMETs</td>\n",
       "    </tr>\n",
       "    <tr>\n",
       "      <th>3</th>\n",
       "      <td>Female</td>\n",
       "      <td>Short-term</td>\n",
       "      <td>1.629557</td>\n",
       "      <td>2014</td>\n",
       "      <td>15 - 29</td>\n",
       "      <td>Associate Professionals &amp; Technicians</td>\n",
       "      <td>PMETs</td>\n",
       "    </tr>\n",
       "    <tr>\n",
       "      <th>4</th>\n",
       "      <td>Male</td>\n",
       "      <td>Long-term</td>\n",
       "      <td>0.182998</td>\n",
       "      <td>2014</td>\n",
       "      <td>15 - 29</td>\n",
       "      <td>Managers &amp; Administrators (Including Working P...</td>\n",
       "      <td>PMETs</td>\n",
       "    </tr>\n",
       "  </tbody>\n",
       "</table>\n",
       "</div>"
      ],
      "text/plain": [
       "   Gender        Type  Count (Thousands)  Year Age_Group  \\\n",
       "0    Male   Long-term           0.286364  2014   15 - 29   \n",
       "1    Male  Short-term           1.317603  2014   15 - 29   \n",
       "2  Female   Long-term           0.000000  2014   15 - 29   \n",
       "3  Female  Short-term           1.629557  2014   15 - 29   \n",
       "4    Male   Long-term           0.182998  2014   15 - 29   \n",
       "\n",
       "                                          Occupation Pmet_Status  \n",
       "0              Associate Professionals & Technicians       PMETs  \n",
       "1              Associate Professionals & Technicians       PMETs  \n",
       "2              Associate Professionals & Technicians       PMETs  \n",
       "3              Associate Professionals & Technicians       PMETs  \n",
       "4  Managers & Administrators (Including Working P...       PMETs  "
      ]
     },
     "execution_count": 2,
     "metadata": {},
     "output_type": "execute_result"
    }
   ],
   "source": [
    "df.head()"
   ]
  },
  {
   "cell_type": "markdown",
   "id": "3b1c7bb7",
   "metadata": {},
   "source": [
    "### Test whether Occupation is independent from Age_Group using the Chi-squared test"
   ]
  },
  {
   "cell_type": "code",
   "execution_count": 3,
   "id": "a6fa462b",
   "metadata": {},
   "outputs": [
    {
     "name": "stdout",
     "output_type": "stream",
     "text": [
      "Contingency Table:\n",
      " Age_Group                                             15 - 29    30 - 39  \\\n",
      "Occupation                                                                 \n",
      "Associate Professionals & Technicians               34.468196  39.284973   \n",
      "Cleaners, Labourers & Related Workers               23.175808  10.933354   \n",
      "Clerical Support Workers                            47.938585  24.064929   \n",
      "Craftsmen & Related Trades Workers                   7.707652   3.498447   \n",
      "Managers & Administrators (Including Working Pr...  22.390422  24.960034   \n",
      "Others                                               0.975393   0.433770   \n",
      "Plant & Machine Operators & Assemblers              16.141650   7.023391   \n",
      "Professionals                                       32.141438  37.255028   \n",
      "Service & Sales Workers                             47.861126  21.645985   \n",
      "\n",
      "Age_Group                                             40 - 49  50 & Over  \n",
      "Occupation                                                                \n",
      "Associate Professionals & Technicians               46.133752  48.880290  \n",
      "Cleaners, Labourers & Related Workers               11.754000  29.483423  \n",
      "Clerical Support Workers                            26.151090  59.190607  \n",
      "Craftsmen & Related Trades Workers                   3.926494   9.713096  \n",
      "Managers & Administrators (Including Working Pr...  28.187391  29.429013  \n",
      "Others                                               0.446451   1.716910  \n",
      "Plant & Machine Operators & Assemblers               7.722270  21.157904  \n",
      "Professionals                                       44.078898  47.390696  \n",
      "Service & Sales Workers                             23.799464  60.937830  \n",
      "\n",
      "Chi2 Statistic: 39.84838593322998\n",
      "Degrees of Freedom: 24\n",
      "p-value: 0.022202297573497877\n",
      "\n",
      "Expected Frequencies (under independence):\n",
      " Age_Group                                             15 - 29    30 - 39  \\\n",
      "Occupation                                                                 \n",
      "Associate Professionals & Technicians               43.557719  31.639166   \n",
      "Cleaners, Labourers & Related Workers               19.446463  14.125393   \n",
      "Clerical Support Workers                            40.609775  29.497858   \n",
      "Craftsmen & Related Trades Workers                   6.412511   4.657877   \n",
      "Managers & Administrators (Including Working Pr...  27.091264  19.678372   \n",
      "Others                                               0.922045   0.669749   \n",
      "Plant & Machine Operators & Assemblers              13.432531   9.757033   \n",
      "Professionals                                       41.518484  30.157920   \n",
      "Service & Sales Workers                             39.809478  28.916543   \n",
      "\n",
      "Age_Group                                             40 - 49  50 & Over  \n",
      "Occupation                                                                \n",
      "Associate Professionals & Technicians               35.961235  57.609090  \n",
      "Cleaners, Labourers & Related Workers               16.054992  25.719736  \n",
      "Clerical Support Workers                            33.527414  53.710163  \n",
      "Craftsmen & Related Trades Workers                   5.294166   8.481135  \n",
      "Managers & Administrators (Including Working Pr...  22.366536  35.830688  \n",
      "Others                                               0.761240   1.219489  \n",
      "Plant & Machine Operators & Assemblers              11.089892  17.765758  \n",
      "Professionals                                       34.277643  54.912013  \n",
      "Service & Sales Workers                             32.866689  52.651696  \n"
     ]
    }
   ],
   "source": [
    "from scipy.stats import chi2_contingency\n",
    "\n",
    "contingency = pd.pivot_table(\n",
    "    df,\n",
    "    values='Count (Thousands)',\n",
    "    index='Occupation',\n",
    "    columns='Age_Group',\n",
    "    aggfunc='sum',\n",
    "    fill_value=0  # in case some combinations are missing\n",
    ")\n",
    "\n",
    "print(\"Contingency Table:\\n\", contingency)\n",
    "\n",
    "# Run Chi-squared test\n",
    "chi2_stat, p_val, dof, expected = chi2_contingency(contingency)\n",
    "\n",
    "print(\"\\nChi2 Statistic:\", chi2_stat)\n",
    "print(\"Degrees of Freedom:\", dof)\n",
    "print(\"p-value:\", p_val)\n",
    "\n",
    "# Optional: Check expected frequencies (under independence assumption)\n",
    "expected_df = pd.DataFrame(expected, index=contingency.index, columns=contingency.columns)\n",
    "print(\"\\nExpected Frequencies (under independence):\\n\", expected_df)\n"
   ]
  },
  {
   "cell_type": "code",
   "execution_count": 4,
   "id": "ec8984be",
   "metadata": {},
   "outputs": [
    {
     "name": "stdout",
     "output_type": "stream",
     "text": [
      "\n",
      "Chi2 Statistic: 39.84838593322998\n",
      "Degrees of Freedom: 24\n",
      "p-value: 0.022202297573497877\n"
     ]
    }
   ],
   "source": [
    "print(\"\\nChi2 Statistic:\", chi2_stat)\n",
    "print(\"Degrees of Freedom:\", dof)\n",
    "print(\"p-value:\", p_val)"
   ]
  },
  {
   "cell_type": "code",
   "execution_count": 5,
   "id": "80b4e376",
   "metadata": {},
   "outputs": [],
   "source": [
    "# p-value is 0.0222 < 0.05\n",
    "\n",
    "# reject the null hypothesis of independence at the 5% significance level\n",
    "\n",
    "# statistically significant association between Occupation and Age_Group ie dependence "
   ]
  },
  {
   "cell_type": "markdown",
   "id": "2732d6b2",
   "metadata": {},
   "source": [
    "### Test whether Occupation is independent from Type using the Chi-squared test"
   ]
  },
  {
   "cell_type": "code",
   "execution_count": 6,
   "id": "dc0e5f4c",
   "metadata": {},
   "outputs": [
    {
     "name": "stdout",
     "output_type": "stream",
     "text": [
      "Contingency Table:\n",
      " Type                                                Long-term  Short-term\n",
      "Occupation                                                               \n",
      "Associate Professionals & Technicians               38.876233  129.890978\n",
      "Cleaners, Labourers & Related Workers               12.056116   63.290468\n",
      "Clerical Support Workers                            23.562275  133.782935\n",
      "Craftsmen & Related Trades Workers                   4.328079   20.517610\n",
      "Managers & Administrators (Including Working Pr...  24.393193   80.573667\n",
      "Others                                               0.882293    2.690230\n",
      "Plant & Machine Operators & Assemblers               8.300569   43.744646\n",
      "Professionals                                       35.930573  124.935487\n",
      "Service & Sales Workers                             24.070626  130.173780\n",
      "\n",
      "Chi2 Statistic: 7.813456168860629\n",
      "Degrees of Freedom: 8\n",
      "p-value: 0.45190137145072895\n",
      "\n",
      "Expected Frequencies (under independence):\n",
      " Type                                                Long-term  Short-term\n",
      "Occupation                                                               \n",
      "Associate Professionals & Technicians               32.256616  136.510595\n",
      "Cleaners, Labourers & Related Workers               14.401055   60.945530\n",
      "Clerical Support Workers                            30.073520  127.271691\n",
      "Craftsmen & Related Trades Workers                   4.748777   20.096912\n",
      "Managers & Administrators (Including Working Pr...  20.062403   84.904458\n",
      "Others                                               0.682819    2.889703\n",
      "Plant & Machine Operators & Assemblers               9.947445   42.097770\n",
      "Professionals                                       30.746463  130.119597\n",
      "Service & Sales Workers                             29.480860  124.763545\n"
     ]
    }
   ],
   "source": [
    "from scipy.stats import chi2_contingency\n",
    "\n",
    "contingency = pd.pivot_table(\n",
    "    df,\n",
    "    values='Count (Thousands)',\n",
    "    index='Occupation',\n",
    "    columns='Type',\n",
    "    aggfunc='sum',\n",
    "    fill_value=0  # in case some combinations are missing\n",
    ")\n",
    "\n",
    "print(\"Contingency Table:\\n\", contingency)\n",
    "\n",
    "# Run Chi-squared test\n",
    "chi2_stat, p_val, dof, expected = chi2_contingency(contingency)\n",
    "\n",
    "print(\"\\nChi2 Statistic:\", chi2_stat)\n",
    "print(\"Degrees of Freedom:\", dof)\n",
    "print(\"p-value:\", p_val)\n",
    "\n",
    "# Optional: Check expected frequencies (under independence assumption)\n",
    "expected_df = pd.DataFrame(expected, index=contingency.index, columns=contingency.columns)\n",
    "print(\"\\nExpected Frequencies (under independence):\\n\", expected_df)\n"
   ]
  },
  {
   "cell_type": "code",
   "execution_count": 7,
   "id": "517899fc",
   "metadata": {},
   "outputs": [
    {
     "name": "stdout",
     "output_type": "stream",
     "text": [
      "\n",
      "Chi2 Statistic: 7.813456168860629\n",
      "Degrees of Freedom: 8\n",
      "p-value: 0.45190137145072895\n"
     ]
    }
   ],
   "source": [
    "print(\"\\nChi2 Statistic:\", chi2_stat)\n",
    "print(\"Degrees of Freedom:\", dof)\n",
    "print(\"p-value:\", p_val)"
   ]
  },
  {
   "cell_type": "code",
   "execution_count": 8,
   "id": "57197670",
   "metadata": {},
   "outputs": [],
   "source": [
    "# p-value is 0.45 > 0.05\n",
    "\n",
    "# Fail to reject the null hypothesis of independence at the 5% significance level\n",
    "\n",
    "# no statistically significant association between Occupation and Age_Group ie independence \n",
    "\n",
    "# But this is still expectedly different from Bayesian Synthetic Merging Under Independence where the Chi2 p-value is close to 1"
   ]
  }
 ],
 "metadata": {
  "kernelspec": {
   "display_name": "base",
   "language": "python",
   "name": "python3"
  },
  "language_info": {
   "codemirror_mode": {
    "name": "ipython",
    "version": 3
   },
   "file_extension": ".py",
   "mimetype": "text/x-python",
   "name": "python",
   "nbconvert_exporter": "python",
   "pygments_lexer": "ipython3",
   "version": "3.12.4"
  }
 },
 "nbformat": 4,
 "nbformat_minor": 5
}
